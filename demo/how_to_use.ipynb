{
 "cells": [
  {
   "cell_type": "code",
   "execution_count": 1,
   "metadata": {},
   "outputs": [],
   "source": [
    "import tensorflow as tf\n",
    "try:\n",
    "    tf.logging.set_verbosity(tf.logging.ERROR)\n",
    "except:\n",
    "    tf.compat.v1.logging.set_verbosity(tf.compat.v1.logging.ERROR)\n",
    "import numpy as np"
   ]
  },
  {
   "cell_type": "code",
   "execution_count": 2,
   "metadata": {},
   "outputs": [],
   "source": [
    "import sys\n",
    "sys.path.append('../../../code_repos/TF_model_pruning/')"
   ]
  },
  {
   "cell_type": "code",
   "execution_count": 3,
   "metadata": {},
   "outputs": [],
   "source": [
    "from model_zoo.net_frameworks.pruning import segnet_VHA_light\n",
    "from pruning_utils import P_node, func_map\n",
    "from pruning_utils.pruning_ops import rebuild_tf_graph, rebuild_tf_graph_rc"
   ]
  },
  {
   "cell_type": "code",
   "execution_count": 4,
   "metadata": {},
   "outputs": [],
   "source": [
    "shape = [1,128,128,128,1]\n",
    "np_in = np.random.randn(*shape)*10"
   ]
  },
  {
   "cell_type": "markdown",
   "metadata": {},
   "source": [
    "## build a network & save ckpt\n",
    "use class `P_node` to creat nodes and pass though into the network.\n",
    "\n",
    "Also, a graph was built as well. You can get it in the attr `graph` of each node in the graph.\n",
    "\n",
    "you can use `graph.print_info()` to check the infos of graph"
   ]
  },
  {
   "cell_type": "code",
   "execution_count": 5,
   "metadata": {
    "scrolled": false
   },
   "outputs": [
    {
     "name": "stdout",
     "output_type": "stream",
     "text": [
      "Total number of nodes  -> 82\n",
      "Number of output nodes -> 6\n",
      "    0th output key ->   OP                   network/OP/tf_identity\n",
      "    1th output key ->   V_OP                 network/VslAtt/tf_nn_softmax\n",
      "    2th output key ->   H_OP                 network/HrtAtt/tf_nn_softmax\n",
      "    3th output key ->   U1                   network/Up1/conv3D_block_1\n",
      "    4th output key ->   U2                   network/Up2/conv3D_block_1\n",
      "    5th output key ->   U3                   network/Up3/conv3D_block_1\n",
      "output sum is  1044418.5\n"
     ]
    }
   ],
   "source": [
    "tf.reset_default_graph()\n",
    "\n",
    "tf_in = tf.placeholder(tf.float32,shape)\n",
    "pn_in = P_node(tf_in, y=None, is_head=True, ch_op_type=None)\n",
    "OP, V_OP, H_OP, [U1, U2, U3,] = segnet_VHA_light(pn_in,16,is_training=False)\n",
    "\n",
    "# get graph\n",
    "graph_org = OP.graph\n",
    "graph_org.print_info()\n",
    "\n",
    "# output test\n",
    "with tf.Session() as sess:\n",
    "    tf.global_variables_initializer().run()\n",
    "    op_ = sess.run(\n",
    "        graph_org.output_nodes['OP'].tensor_out[...,0],\n",
    "        feed_dict = {tf_in:np_in}\n",
    "    )\n",
    "    print('output sum is ', op_.sum())\n",
    "    saver = tf.train.Saver()"
   ]
  },
  {
   "cell_type": "markdown",
   "metadata": {},
   "source": [
    "## re-build the original network & load ckpt\n",
    "\n",
    "you can use func `rebuild_tf_graph` to rebuild the network with the `graph` we built just now.\n",
    "\n",
    "function `rebuild_tf_graph` and `rebuild_tf_graph_rc` gives the same result. You can use the one you like. `rebuild_tf_graph` is recommonded."
   ]
  },
  {
   "cell_type": "code",
   "execution_count": 6,
   "metadata": {
    "scrolled": false
   },
   "outputs": [
    {
     "name": "stdout",
     "output_type": "stream",
     "text": [
      "Total number of nodes  -> 82\n",
      "Number of output nodes -> 6\n",
      "    0th output key ->   V_OP                 network/VslAtt/tf_nn_softmax\n",
      "    1th output key ->   H_OP                 network/HrtAtt/tf_nn_softmax\n",
      "    2th output key ->   U3                   network/Up3/conv3D_block_1\n",
      "    3th output key ->   U2                   network/Up2/conv3D_block_1\n",
      "    4th output key ->   U1                   network/Up1/conv3D_block_1\n",
      "    5th output key ->   OP                   network/OP/tf_identity\n",
      "output sum is  1047786.3 , which is same as above\n"
     ]
    }
   ],
   "source": [
    "tf.reset_default_graph()\n",
    "tf_in = tf.placeholder(tf.float32,shape)\n",
    "graph1 = rebuild_tf_graph(tf_in, graph_org)\n",
    "graph1.print_info()\n",
    "\n",
    "# test scope_id\n",
    "for x in graph1.all_nodes:\n",
    "    if x.scope_id not in [x.scope_id for x in graph_org.all_nodes]:\n",
    "        assert 0\n",
    "        \n",
    "# output test\n",
    "with tf.Session() as sess:\n",
    "    tf.global_variables_initializer().run()\n",
    "    saver = tf.train.Saver()\n",
    "    saver.restore(sess,'./ckpt/model.ckpt')\n",
    "    op_ = sess.run(\n",
    "        graph1.output_nodes['OP'].tensor_out[...,0],\n",
    "        feed_dict = {tf_in:np_in}\n",
    "    )\n",
    "    print('output sum is ', op_.sum(), ', which is same as above')\n",
    "    saver.save(sess, './ckpt/model.ckpt')"
   ]
  },
  {
   "cell_type": "code",
   "execution_count": 7,
   "metadata": {},
   "outputs": [
    {
     "name": "stdout",
     "output_type": "stream",
     "text": [
      "Total number of nodes  -> 82\n",
      "Number of output nodes -> 6\n",
      "    0th output key ->   V_OP                 network/VslAtt/tf_nn_softmax\n",
      "    1th output key ->   H_OP                 network/HrtAtt/tf_nn_softmax\n",
      "    2th output key ->   U3                   network/Up3/conv3D_block_1\n",
      "    3th output key ->   U2                   network/Up2/conv3D_block_1\n",
      "    4th output key ->   U1                   network/Up1/conv3D_block_1\n",
      "    5th output key ->   OP                   network/OP/tf_identity\n",
      "output sum is  1047786.3 , which is same as above\n"
     ]
    }
   ],
   "source": [
    "tf.reset_default_graph()\n",
    "tf_in = tf.placeholder(tf.float32,shape)\n",
    "graph2 = rebuild_tf_graph_rc(tf_in, graph_org)\n",
    "graph2.print_info()\n",
    "\n",
    "# test scope_id\n",
    "for x in graph2.all_nodes:\n",
    "    if x.scope_id not in [x.scope_id for x in graph_org.all_nodes]:\n",
    "        assert 0\n",
    "        \n",
    "# output test\n",
    "with tf.Session() as sess:\n",
    "    tf.global_variables_initializer().run()\n",
    "    saver = tf.train.Saver()\n",
    "    saver.restore(sess,'./ckpt/model.ckpt')\n",
    "    op_ = sess.run(\n",
    "        graph2.output_nodes['OP'].tensor_out[...,0],\n",
    "        feed_dict = {tf_in:np_in}\n",
    "    )\n",
    "    print('output sum is ', op_.sum(), ', which is same as above')\n",
    "    saver.save(sess, './ckpt/model.ckpt')"
   ]
  },
  {
   "cell_type": "markdown",
   "metadata": {},
   "source": [
    "## pruning with trained-weights(.ckpt) and graph"
   ]
  },
  {
   "cell_type": "code",
   "execution_count": null,
   "metadata": {},
   "outputs": [],
   "source": []
  }
 ],
 "metadata": {
  "kernelspec": {
   "display_name": "Python 3",
   "language": "python",
   "name": "python3"
  },
  "language_info": {
   "codemirror_mode": {
    "name": "ipython",
    "version": 3
   },
   "file_extension": ".py",
   "mimetype": "text/x-python",
   "name": "python",
   "nbconvert_exporter": "python",
   "pygments_lexer": "ipython3",
   "version": "3.6.8"
  }
 },
 "nbformat": 4,
 "nbformat_minor": 4
}
