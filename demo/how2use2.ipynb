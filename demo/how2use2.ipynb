{
 "cells": [
  {
   "cell_type": "code",
   "execution_count": 1,
   "metadata": {},
   "outputs": [],
   "source": [
    "import tensorflow as tf\n",
    "try:\n",
    "    tf.logging.set_verbosity(tf.logging.ERROR)\n",
    "except:\n",
    "    tf.compat.v1.logging.set_verbosity(tf.compat.v1.logging.ERROR)\n",
    "import numpy as np\n",
    "import pickle\n",
    "import os"
   ]
  },
  {
   "cell_type": "code",
   "execution_count": 2,
   "metadata": {},
   "outputs": [],
   "source": [
    "import sys\n",
    "sys.path.append('../../../code_repos/TF_model_pruning/')"
   ]
  },
  {
   "cell_type": "code",
   "execution_count": 3,
   "metadata": {},
   "outputs": [],
   "source": [
    "from model_zoo.net_frameworks.pruning import segnet_VHA_light\n",
    "from model_zoo.net_blocks.pruning import conv3D_block, start_77conv_block, SE_block_3d, upsample3D_block\n",
    "from pruning_utils import P_node, func_map, save_graph, load_graph\n",
    "from pruning_utils.solver import prune_though_gragh, get_complete_cfg\n",
    "from pruning_utils.rebuild_ops import rebuild_tf_graph\n",
    "from pruning_utils.weights import load_weights_2_tfsess"
   ]
  },
  {
   "cell_type": "code",
   "execution_count": 4,
   "metadata": {},
   "outputs": [],
   "source": [
    "shape = [1,128,128,128,1]\n",
    "np_in = np.random.randn(*shape)*10"
   ]
  },
  {
   "cell_type": "markdown",
   "metadata": {},
   "source": [
    "## build a model"
   ]
  },
  {
   "cell_type": "code",
   "execution_count": 5,
   "metadata": {},
   "outputs": [],
   "source": [
    "tf.reset_default_graph()\n",
    "with tf.variable_scope('scopetest1/scopetest2'):\n",
    "    tf_in = tf.placeholder(tf.float32,shape)\n",
    "    pn_in = P_node(tf_in, y=None, is_head=True) # set up a pruning node\n",
    "    OP, V_OP, H_OP, [U1, U2, U3,] = segnet_VHA_light(pn_in,16,is_training=False)\n",
    "    graph = OP.graph"
   ]
  },
  {
   "cell_type": "markdown",
   "metadata": {},
   "source": [
    "## save graph & ckpt"
   ]
  },
  {
   "cell_type": "code",
   "execution_count": 6,
   "metadata": {},
   "outputs": [],
   "source": [
    "os.makedirs('./ckpt/',exist_ok=True)\n",
    "os.makedirs('./graph/',exist_ok=True)\n",
    "\n",
    "# save .ckpt\n",
    "with tf.Session() as sess:\n",
    "    tf.global_variables_initializer().run()\n",
    "    saver = tf.train.Saver()\n",
    "    saver.save(sess, './ckpt/model.ckpt')\n",
    "\n",
    "# save graph\n",
    "save_graph(graph,'./graph/graph.pkl')"
   ]
  },
  {
   "cell_type": "markdown",
   "metadata": {},
   "source": [
    "## read weights in ckpt & run pruning"
   ]
  },
  {
   "cell_type": "code",
   "execution_count": 7,
   "metadata": {},
   "outputs": [],
   "source": [
    "# setup configure\n",
    "cfg = {\n",
    "    'conv3D_block':{\n",
    "        'method': 'weight_mean',\n",
    "        'scale': 0.5,\n",
    "    },\n",
    "    'start_77conv_block':{\n",
    "        'method': 'weight_mean',\n",
    "        'scale': 0.5,\n",
    "    },\n",
    "    'SE_block_3d':{\n",
    "        'method': 'weight_mean',\n",
    "    },\n",
    "    'upsample3D_block':{\n",
    "        'method': 'weight_mean',\n",
    "        'scale': 0.5,\n",
    "    },\n",
    "    'va_attention':{\n",
    "        'method': 'norm',\n",
    "    },\n",
    "}"
   ]
  },
  {
   "cell_type": "code",
   "execution_count": 8,
   "metadata": {},
   "outputs": [
    {
     "name": "stdout",
     "output_type": "stream",
     "text": [
      "Start pruning though entire graph ...\n",
      "   - pruning node <network/tf_identity> ...                            - SKIPED <prune unable>\n",
      "   - pruning node <network/start_77conv_block> ...                     - DONE\n",
      "   - pruning node <network/Down1/conv3D_block> ...                     - DONE\n",
      "   - pruning node <network/Down1/SE_block_3d> ...                      - DONE\n",
      "   - pruning node <network/Down2/tf_layers_max_pooling3d> ...          - SKIPED <prune unable>\n",
      "   - pruning node <network/Down2/conv3D_block> ...                     - DONE\n",
      "   - pruning node <network/Down2/SE_block_3d> ...                      - DONE\n",
      "   - pruning node <network/Down3/tf_layers_max_pooling3d> ...          - SKIPED <prune unable>\n",
      "   - pruning node <network/Down3/conv3D_block> ...                     - DONE\n",
      "   - pruning node <network/Down3/SE_block_3d> ...                      - DONE\n",
      "   - pruning node <network/Middle/tf_layers_max_pooling3d> ...         - SKIPED <prune unable>\n",
      "   - pruning node <network/Middle/conv3D_block> ...                    - DONE\n",
      "   - pruning node <network/Middle/conv3D_block_1> ...                  - DONE\n",
      "   - pruning node <network/VslAtt/upsample3D_block> ...                - DONE\n",
      "   - pruning node <network/VslAtt/conv3D_block> ...                    - DONE\n",
      "   - pruning node <network/VslAtt/tf_concat> ...                       - SKIPED <prune unable>\n",
      "   - pruning node <network/VslAtt/conv3D_block_1> ...                  - DONE\n",
      "   - pruning node <network/VslAtt/upsample3D_block_1> ...              - DONE\n",
      "   - pruning node <network/VslAtt/conv3D_block_2> ...                  - DONE\n",
      "   - pruning node <network/VslAtt/tf_concat_1> ...                     - SKIPED <prune unable>\n",
      "   - pruning node <network/VslAtt/conv3D_block_3> ...                  - DONE\n",
      "   - pruning node <network/VslAtt/upsample3D_block_2> ...              - DONE\n",
      "   - pruning node <network/VslAtt/conv3D_block_4> ...                  - DONE\n",
      "   - pruning node <network/VslAtt/tf_concat_2> ...                     - SKIPED <prune unable>\n",
      "   - pruning node <network/VslAtt/conv3D_block_5> ...                  - DONE\n",
      "   - pruning node <network/VslAtt/conv3D_block_6> ...                  - DONE\n",
      "   - pruning node <network/VslAtt/tf_nn_softmax> ...                   - SKIPED <prune unable>\n",
      "   - pruning node <network/VslAtt/conv3D_block_7> ...                  - DONE\n",
      "   - pruning node <network/VslAtt/va_attention> ...                    - DONE\n",
      "   - pruning node <network/VslAtt/tf_layers_max_pooling3d> ...         - SKIPED <prune unable>\n",
      "   - pruning node <network/VslAtt/conv3D_block_8> ...                  - DONE\n",
      "   - pruning node <network/VslAtt/va_attention_1> ...                  - DONE\n",
      "   - pruning node <network/VslAtt/tf_layers_max_pooling3d_1> ...       - SKIPED <prune unable>\n",
      "   - pruning node <network/VslAtt/conv3D_block_9> ...                  - DONE\n",
      "   - pruning node <network/VslAtt/va_attention_2> ...                  - DONE\n",
      "   - pruning node <network/HrtAtt/upsample3D_block> ...                - DONE\n",
      "   - pruning node <network/HrtAtt/conv3D_block> ...                    - DONE\n",
      "   - pruning node <network/HrtAtt/tf_concat> ...                       - SKIPED <prune unable>\n",
      "   - pruning node <network/HrtAtt/conv3D_block_1> ...                  - DONE\n",
      "   - pruning node <network/HrtAtt/upsample3D_block_1> ...              - DONE\n",
      "   - pruning node <network/HrtAtt/conv3D_block_2> ...                  - DONE\n",
      "   - pruning node <network/HrtAtt/tf_concat_1> ...                     - SKIPED <prune unable>\n",
      "   - pruning node <network/HrtAtt/conv3D_block_3> ...                  - DONE\n",
      "   - pruning node <network/HrtAtt/upsample3D_block_2> ...              - DONE\n",
      "   - pruning node <network/HrtAtt/conv3D_block_4> ...                  - DONE\n",
      "   - pruning node <network/HrtAtt/tf_concat_2> ...                     - SKIPED <prune unable>\n",
      "   - pruning node <network/HrtAtt/conv3D_block_5> ...                  - DONE\n",
      "   - pruning node <network/HrtAtt/conv3D_block_6> ...                  - DONE\n",
      "   - pruning node <network/HrtAtt/tf_nn_softmax> ...                   - SKIPED <prune unable>\n",
      "   - pruning node <network/HrtAtt/conv3D_block_7> ...                  - DONE\n",
      "   - pruning node <network/HrtAtt/va_attention> ...                    - DONE\n",
      "   - pruning node <network/HrtAtt/tf_layers_max_pooling3d> ...         - SKIPED <prune unable>\n",
      "   - pruning node <network/HrtAtt/conv3D_block_8> ...                  - DONE\n",
      "   - pruning node <network/HrtAtt/va_attention_1> ...                  - DONE\n",
      "   - pruning node <network/HrtAtt/tf_layers_max_pooling3d_1> ...       - SKIPED <prune unable>\n",
      "   - pruning node <network/HrtAtt/conv3D_block_9> ...                  - DONE\n",
      "   - pruning node <network/HrtAtt/va_attention_2> ...                  - DONE\n",
      "   - pruning node <network/Up3/upsample3D_block> ...                   - DONE\n",
      "   - pruning node <network/Up3/pn_mul> ...                             - SKIPED <prune unable>\n",
      "   - pruning node <network/Up3/pn_mul_1> ...                           - SKIPED <prune unable>\n",
      "   - pruning node <network/Up3/tf_concat> ...                          - SKIPED <prune unable>\n",
      "   - pruning node <network/Up3/conv3D_block> ...                       - DONE\n",
      "   - pruning node <network/Up3/tf_layers_dropout> ...                  - SKIPED <prune unable>\n",
      "   - pruning node <network/Up3/conv3D_block_1> ...                     - DONE\n",
      "   - pruning node <network/Up2/upsample3D_block> ...                   - DONE\n",
      "   - pruning node <network/Up2/pn_mul> ...                             - SKIPED <prune unable>\n",
      "   - pruning node <network/Up2/pn_mul_1> ...                           - SKIPED <prune unable>\n",
      "   - pruning node <network/Up2/tf_concat> ...                          - SKIPED <prune unable>\n",
      "   - pruning node <network/Up2/conv3D_block> ...                       - DONE\n",
      "   - pruning node <network/Up2/tf_layers_dropout> ...                  - SKIPED <prune unable>\n",
      "   - pruning node <network/Up2/conv3D_block_1> ...                     - DONE\n",
      "   - pruning node <network/Up1/upsample3D_block> ...                   - DONE\n",
      "   - pruning node <network/Up1/pn_mul> ...                             - SKIPED <prune unable>\n",
      "   - pruning node <network/Up1/pn_mul_1> ...                           - SKIPED <prune unable>\n",
      "   - pruning node <network/Up1/tf_concat> ...                          - SKIPED <prune unable>\n",
      "   - pruning node <network/Up1/conv3D_block> ...                       - DONE\n",
      "   - pruning node <network/Up1/tf_layers_dropout> ...                  - SKIPED <prune unable>\n",
      "   - pruning node <network/Up1/conv3D_block_1> ...                     - DONE\n",
      "   - pruning node <network/OP/conv3D_block> ...                        - DONE\n",
      "   - pruning node <network/OP/tf_nn_softmax> ...                       - SKIPED <prune unable>\n",
      "   - pruning node <network/OP/tf_identity> ...                         - SKIPED <prune unable>\n",
      "Prune Done!\n"
     ]
    }
   ],
   "source": [
    "tf.reset_default_graph()\n",
    "\n",
    "reader = tf.train.NewCheckpointReader(\"./ckpt/model.ckpt\")  \n",
    "  \n",
    "variables = reader.get_variable_to_shape_map()  \n",
    "\n",
    "weight_dict = {}\n",
    "for v in variables: \n",
    "    weight_dict[v+':0'] = reader.get_tensor(v)\n",
    "\n",
    "graph = load_graph('./graph/graph.pkl')\n",
    "\n",
    "# re-build graph\n",
    "with tf.variable_scope(graph.base_scope[:-1]):\n",
    "    tf_in = tf.placeholder(tf.float32,shape)\n",
    "    graph = rebuild_tf_graph(tf_in, graph)\n",
    "\n",
    "# get cfg\n",
    "pruning_cfg = get_complete_cfg(graph,cfg)\n",
    "\n",
    "prune_though_gragh(graph, weight_dict, pruning_cfg)\n",
    "\n",
    "tf.reset_default_graph()\n",
    "\n",
    "# save .ckpt & graph\n",
    "with tf.Session() as sess:\n",
    "    tf.global_variables_initializer().run()\n",
    "    load_weights_2_tfsess(weight_dict, sess, mode='new')\n",
    "    saver = tf.train.Saver()\n",
    "    saver.save(sess, './ckpt/model_p.ckpt')\n",
    "save_graph(graph,'./graph/graph_p.pkl')"
   ]
  },
  {
   "cell_type": "markdown",
   "metadata": {},
   "source": [
    "## load prunined model"
   ]
  },
  {
   "cell_type": "code",
   "execution_count": 9,
   "metadata": {},
   "outputs": [],
   "source": [
    "tf.reset_default_graph()"
   ]
  },
  {
   "cell_type": "code",
   "execution_count": 10,
   "metadata": {},
   "outputs": [],
   "source": [
    "graph = load_graph('./graph/graph_p.pkl')\n",
    "with tf.variable_scope(graph.base_scope[:-1]):\n",
    "    tf_in = tf.placeholder(tf.float32,shape)\n",
    "    graph = rebuild_tf_graph(tf_in, graph)\n",
    "    \n",
    "with tf.Session() as sess:\n",
    "    tf.global_variables_initializer().run()\n",
    "    saver = tf.train.Saver()\n",
    "    saver.restore(sess,'./ckpt/model_p.ckpt')"
   ]
  }
 ],
 "metadata": {
  "kernelspec": {
   "display_name": "Python 3",
   "language": "python",
   "name": "python3"
  },
  "language_info": {
   "codemirror_mode": {
    "name": "ipython",
    "version": 3
   },
   "file_extension": ".py",
   "mimetype": "text/x-python",
   "name": "python",
   "nbconvert_exporter": "python",
   "pygments_lexer": "ipython3",
   "version": "3.6.8"
  }
 },
 "nbformat": 4,
 "nbformat_minor": 4
}
