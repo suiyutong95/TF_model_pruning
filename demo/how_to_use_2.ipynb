{
 "cells": [
  {
   "cell_type": "code",
   "execution_count": 1,
   "metadata": {},
   "outputs": [],
   "source": [
    "import tensorflow as tf\n",
    "try:\n",
    "    tf.logging.set_verbosity(tf.logging.ERROR)\n",
    "except:\n",
    "    tf.compat.v1.logging.set_verbosity(tf.compat.v1.logging.ERROR)\n",
    "import numpy as np"
   ]
  },
  {
   "cell_type": "code",
   "execution_count": 2,
   "metadata": {},
   "outputs": [],
   "source": [
    "import sys\n",
    "sys.path.append('../../../code_repos/TF_model_pruning/')"
   ]
  },
  {
   "cell_type": "code",
   "execution_count": 3,
   "metadata": {},
   "outputs": [],
   "source": [
    "from model_zoo.net_frameworks.pruning import segnet_VHA_light\n",
    "from model_zoo.net_blocks.pruning import conv3D_block, start_77conv_block, SE_block_3d\n",
    "from pruning_utils import P_node, func_map\n",
    "from pruning_utils.solver import solver_cfg, solver_lib, prune_solver"
   ]
  },
  {
   "cell_type": "code",
   "execution_count": 4,
   "metadata": {},
   "outputs": [],
   "source": [
    "shape = [1,128,128,128,1]\n",
    "np_in = np.random.randn(*shape)*10"
   ]
  },
  {
   "cell_type": "markdown",
   "metadata": {},
   "source": [
    "## build a model"
   ]
  },
  {
   "cell_type": "code",
   "execution_count": 5,
   "metadata": {},
   "outputs": [],
   "source": [
    "tf.reset_default_graph()\n",
    "tf_in = tf.placeholder(tf.float32,shape)\n",
    "pn_in = P_node(tf_in, y=None, is_head=True) # set up a pruning node\n",
    "pn_1 = conv3D_block(pn_in,8,norm='BN')\n",
    "pn_2 = conv3D_block(pn_1,8)\n",
    "pn_3 = pn_1 + pn_2\n",
    "pn_4 = start_77conv_block(pn_3,8)\n",
    "pn_out = SE_block_3d(pn_4)\n",
    "pn_out.as_output('pn_out')\n",
    "graph = pn_out.graph"
   ]
  },
  {
   "cell_type": "markdown",
   "metadata": {},
   "source": [
    "## read the weights in tf.Variables"
   ]
  },
  {
   "cell_type": "code",
   "execution_count": 6,
   "metadata": {},
   "outputs": [
    {
     "name": "stdout",
     "output_type": "stream",
     "text": [
      "conv3D_block/conv3d/kernel:0                       (3, 3, 3, 1, 8)\n",
      "conv3D_block/conv3d/bias:0                         (8,)\n",
      "conv3D_block/BatchNorm/gamma:0                     (8,)\n",
      "conv3D_block/BatchNorm/beta:0                      (8,)\n",
      "conv3D_block/BatchNorm/moving_mean:0               (8,)\n",
      "conv3D_block/BatchNorm/moving_variance:0           (8,)\n",
      "conv3D_block_1/conv3d/kernel:0                     (3, 3, 3, 8, 8)\n",
      "conv3D_block_1/conv3d/bias:0                       (8,)\n",
      "conv3D_block_1/GroupNorm/beta:0                    (8,)\n",
      "conv3D_block_1/GroupNorm/gamma:0                   (8,)\n",
      "start_77conv_block/conv3d/kernel:0                 (7, 7, 7, 8, 8)\n",
      "start_77conv_block/conv3d/bias:0                   (8,)\n",
      "start_77conv_block/GroupNorm/beta:0                (8,)\n",
      "start_77conv_block/GroupNorm/gamma:0               (8,)\n",
      "SE_block_3d/dense/kernel:0                         (8, 1)\n",
      "SE_block_3d/dense/bias:0                           (1,)\n",
      "SE_block_3d/dense_1/kernel:0                       (1, 8)\n",
      "SE_block_3d/dense_1/bias:0                         (8,)\n"
     ]
    }
   ],
   "source": [
    "# get tf variables\n",
    "weight_dict = {}\n",
    "with tf.Session() as sess:\n",
    "    tf.global_variables_initializer().run()\n",
    "    # save .ckpt\n",
    "    saver = tf.train.Saver()\n",
    "    saver.save(sess, './ckpt/model2.ckpt')\n",
    "    # read variables\n",
    "    for tf_v in tf.all_variables():\n",
    "        weight_dict[tf_v.name] = sess.run(tf_v)\n",
    "\n",
    "        \n",
    "# show\n",
    "for k,v in weight_dict.items():\n",
    "    print(k.ljust(50, ' '),v.shape)"
   ]
  },
  {
   "cell_type": "markdown",
   "metadata": {},
   "source": [
    "## setup pruning config"
   ]
  },
  {
   "cell_type": "code",
   "execution_count": 7,
   "metadata": {},
   "outputs": [],
   "source": [
    "# setup configure\n",
    "pruning_cfg = {\n",
    "    'conv3D_block':{\n",
    "        'method': 'weight_mean',\n",
    "        'scale': 0.5,\n",
    "    },\n",
    "    'conv3D_block_1':{\n",
    "        'method': 'weight_mean',\n",
    "        'scale': 0.5,\n",
    "    },\n",
    "    'pn_add':{},\n",
    "    'start_77conv_block':{\n",
    "        'method': 'weight_mean',\n",
    "        'scale': 0.5,\n",
    "    },\n",
    "}"
   ]
  },
  {
   "cell_type": "markdown",
   "metadata": {},
   "source": [
    "## prune"
   ]
  },
  {
   "cell_type": "code",
   "execution_count": 8,
   "metadata": {},
   "outputs": [],
   "source": [
    "# from pruning_utils.solver import prune_solver\n",
    "# prune_solver(pn_1, weight_dict, pruning_cfg)"
   ]
  },
  {
   "cell_type": "code",
   "execution_count": 9,
   "metadata": {},
   "outputs": [
    {
     "name": "stdout",
     "output_type": "stream",
     "text": [
      "Start pruning though entire graph ...\n",
      "   - pruning node <conv3D_block> ...               - DONE\n",
      "   - pruning node <conv3D_block_1> ...             - DONE\n",
      "   - pruning node <pn_add> ...                     - SKIPED prune unable\n",
      "   - pruning node <start_77conv_block> ...         - DONE\n",
      "   - pruning node <SE_block_3d> ...                - SKIPED prune unable\n",
      "Prune Done!\n"
     ]
    }
   ],
   "source": [
    "from pruning_utils.solver import prune_though_gragh\n",
    "prune_though_gragh(graph, weight_dict, pruning_cfg)"
   ]
  },
  {
   "cell_type": "markdown",
   "metadata": {},
   "source": [
    "## rebuild pruned model"
   ]
  },
  {
   "cell_type": "code",
   "execution_count": 10,
   "metadata": {},
   "outputs": [],
   "source": [
    "from pruning_utils.rebuild_ops import rebuild_tf_graph\n",
    "tf.reset_default_graph() # remember to reset graph\n",
    "shape = [1,128,128,128,1]\n",
    "tf_in = tf.placeholder(tf.float32,shape)\n",
    "graph_pruned = rebuild_tf_graph(tf_in, graph)\n",
    "pn_out = graph_pruned.output_nodes['pn_out']"
   ]
  },
  {
   "cell_type": "code",
   "execution_count": 11,
   "metadata": {},
   "outputs": [],
   "source": [
    "## load pruned weights"
   ]
  },
  {
   "cell_type": "code",
   "execution_count": 13,
   "metadata": {},
   "outputs": [],
   "source": [
    "from pruning_utils.weights import load_weights_2_tfsess\n",
    "load_weights_2_tfsess(weight_dict, mode='reuse')"
   ]
  },
  {
   "cell_type": "code",
   "execution_count": null,
   "metadata": {},
   "outputs": [],
   "source": [
    "# tf.all_variables()"
   ]
  },
  {
   "cell_type": "markdown",
   "metadata": {},
   "source": [
    "## TODO\n",
    "\n",
    "- [ ] auto gen configs\n",
    "- [ ]  finish all solvers"
   ]
  },
  {
   "cell_type": "code",
   "execution_count": null,
   "metadata": {},
   "outputs": [],
   "source": []
  }
 ],
 "metadata": {
  "kernelspec": {
   "display_name": "Python 3",
   "language": "python",
   "name": "python3"
  },
  "language_info": {
   "codemirror_mode": {
    "name": "ipython",
    "version": 3
   },
   "file_extension": ".py",
   "mimetype": "text/x-python",
   "name": "python",
   "nbconvert_exporter": "python",
   "pygments_lexer": "ipython3",
   "version": "3.6.8"
  }
 },
 "nbformat": 4,
 "nbformat_minor": 4
}
